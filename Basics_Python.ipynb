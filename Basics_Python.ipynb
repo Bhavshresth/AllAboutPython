{
 "cells": [
  {
   "cell_type": "code",
   "execution_count": 3,
   "id": "30c1fe4e-6b54-47f9-934e-5275c0b18dde",
   "metadata": {},
   "outputs": [
    {
     "name": "stdout",
     "output_type": "stream",
     "text": [
      "Hello\n"
     ]
    },
    {
     "name": "stdin",
     "output_type": "stream",
     "text": [
      " Bhavshresth Pattanayak\n"
     ]
    },
    {
     "name": "stdout",
     "output_type": "stream",
     "text": [
      "Bhavshresth Pattanayak\n"
     ]
    }
   ],
   "source": [
    "print(\"Hello\")\n",
    "name=input()\n",
    "print(name)"
   ]
  },
  {
   "cell_type": "markdown",
   "id": "32a16147-e3e5-41e0-9ac4-5678f7aa4831",
   "metadata": {},
   "source": [
    "# Lets Learn Python\n",
    "- We will rock"
   ]
  },
  {
   "cell_type": "code",
   "execution_count": 10,
   "id": "1c4b5cce-c4c7-498c-823f-6ea77746e73c",
   "metadata": {},
   "outputs": [
    {
     "data": {
      "text/plain": [
       "\u001b[1;31mSignature:\u001b[0m \u001b[0mprint\u001b[0m\u001b[1;33m(\u001b[0m\u001b[1;33m*\u001b[0m\u001b[0margs\u001b[0m\u001b[1;33m,\u001b[0m \u001b[0msep\u001b[0m\u001b[1;33m=\u001b[0m\u001b[1;34m' '\u001b[0m\u001b[1;33m,\u001b[0m \u001b[0mend\u001b[0m\u001b[1;33m=\u001b[0m\u001b[1;34m'\\n'\u001b[0m\u001b[1;33m,\u001b[0m \u001b[0mfile\u001b[0m\u001b[1;33m=\u001b[0m\u001b[1;32mNone\u001b[0m\u001b[1;33m,\u001b[0m \u001b[0mflush\u001b[0m\u001b[1;33m=\u001b[0m\u001b[1;32mFalse\u001b[0m\u001b[1;33m)\u001b[0m\u001b[1;33m\u001b[0m\u001b[1;33m\u001b[0m\u001b[0m\n",
       "\u001b[1;31mDocstring:\u001b[0m\n",
       "Prints the values to a stream, or to sys.stdout by default.\n",
       "\n",
       "sep\n",
       "  string inserted between values, default a space.\n",
       "end\n",
       "  string appended after the last value, default a newline.\n",
       "file\n",
       "  a file-like object (stream); defaults to the current sys.stdout.\n",
       "flush\n",
       "  whether to forcibly flush the stream.\n",
       "\u001b[1;31mType:\u001b[0m      builtin_function_or_method"
      ]
     },
     "metadata": {},
     "output_type": "display_data"
    }
   ],
   "source": [
    " print?"
   ]
  },
  {
   "cell_type": "code",
   "execution_count": 12,
   "id": "f1114f9a-bdf2-4604-a818-3f7b6653ff86",
   "metadata": {},
   "outputs": [
    {
     "name": "stdout",
     "output_type": "stream",
     "text": [
      "Help on built-in function print in module builtins:\n",
      "\n",
      "print(*args, sep=' ', end='\\n', file=None, flush=False)\n",
      "    Prints the values to a stream, or to sys.stdout by default.\n",
      "    \n",
      "    sep\n",
      "      string inserted between values, default a space.\n",
      "    end\n",
      "      string appended after the last value, default a newline.\n",
      "    file\n",
      "      a file-like object (stream); defaults to the current sys.stdout.\n",
      "    flush\n",
      "      whether to forcibly flush the stream.\n",
      "\n"
     ]
    }
   ],
   "source": [
    "help(print)\n"
   ]
  },
  {
   "cell_type": "code",
   "execution_count": 16,
   "id": "dd05fd82-0c85-4620-acd1-4f8dca1ee918",
   "metadata": {},
   "outputs": [
    {
     "data": {
      "text/plain": [
       "'Multi\\n Line \\n Comment/Doc String'"
      ]
     },
     "execution_count": 16,
     "metadata": {},
     "output_type": "execute_result"
    }
   ],
   "source": [
    "# Comments\n",
    "\"\"\"Multi\n",
    " Line \n",
    " Comment/Doc String\"\"\"\n"
   ]
  },
  {
   "cell_type": "code",
   "execution_count": 19,
   "id": "451ed4b4-d5e6-46a2-bffc-295e02286eac",
   "metadata": {},
   "outputs": [
    {
     "name": "stdout",
     "output_type": "stream",
     "text": [
      "120\n"
     ]
    }
   ],
   "source": [
    "# How do you cal factorial of 100?\n",
    "\n",
    "import math\n",
    "print(math.factorial(5))"
   ]
  },
  {
   "cell_type": "markdown",
   "id": "eb3c4be1-5f16-4e00-945a-76fd39a268b4",
   "metadata": {},
   "source": [
    "# DataType and Variable"
   ]
  },
  {
   "cell_type": "code",
   "execution_count": 21,
   "id": "f627b8c3-196c-4ebf-b777-b344d971cca5",
   "metadata": {},
   "outputs": [
    {
     "name": "stdout",
     "output_type": "stream",
     "text": [
      "20\n",
      "<class 'int'>\n",
      "140705404536200\n",
      "20\n",
      "<class 'int'>\n",
      "140705404536200\n"
     ]
    }
   ],
   "source": [
    "first=20\n",
    "print(first)\n",
    "print(type(first))\n",
    "print(id(first))\n",
    "second=first\n",
    "print(second)\n",
    "print(type(second))\n",
    "print(id(second))"
   ]
  },
  {
   "cell_type": "code",
   "execution_count": 23,
   "id": "b8b95851-9f21-41e2-a051-ba754d2326c0",
   "metadata": {},
   "outputs": [
    {
     "name": "stdout",
     "output_type": "stream",
     "text": [
      "<class 'float'>\n"
     ]
    }
   ],
   "source": [
    "a=2.4\n",
    "print(type(a))"
   ]
  },
  {
   "cell_type": "code",
   "execution_count": 25,
   "id": "1e930fcf-c002-40ab-b15c-b2b8bc0fadee",
   "metadata": {},
   "outputs": [
    {
     "name": "stdout",
     "output_type": "stream",
     "text": [
      "<class 'str'>\n"
     ]
    }
   ],
   "source": [
    "c='dd'\n",
    "print(type(c))\n"
   ]
  },
  {
   "cell_type": "code",
   "execution_count": 27,
   "id": "9266f3f0-c9b8-4afa-9146-f56aa176a92e",
   "metadata": {},
   "outputs": [
    {
     "name": "stdout",
     "output_type": "stream",
     "text": [
      "<class 'str'> <class 'str'> <class 'str'>\n"
     ]
    }
   ],
   "source": [
    "a=''\n",
    "b=\"\"\n",
    "c=''' \n",
    "\n",
    "'''\n",
    "print(type(a),type(b),type(c))"
   ]
  },
  {
   "cell_type": "code",
   "execution_count": 29,
   "id": "11e27b0b-9629-48fb-9f44-65cd2431ec23",
   "metadata": {},
   "outputs": [
    {
     "name": "stdout",
     "output_type": "stream",
     "text": [
      "<class 'complex'>\n"
     ]
    }
   ],
   "source": [
    "a=3+4j\n",
    "print(type(a))"
   ]
  },
  {
   "cell_type": "code",
   "execution_count": 33,
   "id": "a1633577-59a7-4334-a3b4-b5d1f4da8512",
   "metadata": {},
   "outputs": [],
   "source": [
    "# explicit line joining\n",
    "a= \"this is a string \\\n",
    "this is a new string \\\n",
    "it will gonna continue \\\n",
    "\""
   ]
  },
  {
   "cell_type": "code",
   "execution_count": 35,
   "id": "309d0fcc-ba56-4f22-97d2-209d6951f9a2",
   "metadata": {},
   "outputs": [
    {
     "name": "stdout",
     "output_type": "stream",
     "text": [
      "this is a string this is a new string it will gonna continue \n"
     ]
    }
   ],
   "source": [
    "print(a)"
   ]
  },
  {
   "cell_type": "code",
   "execution_count": 39,
   "id": "e5b88423-42f9-455a-a397-6ce05308528a",
   "metadata": {},
   "outputs": [
    {
     "name": "stdout",
     "output_type": "stream",
     "text": [
      "Hello \n",
      "\t world\n",
      "Hello \\n\\t world \\n\n"
     ]
    }
   ],
   "source": [
    "# Escape Sequences\n",
    "print(\"Hello \\n\\t world\")\n",
    "print(r\"Hello \\n\\t world \\n\")"
   ]
  },
  {
   "cell_type": "code",
   "execution_count": 41,
   "id": "5689c502-6304-49e5-aad5-82474a13e9a9",
   "metadata": {},
   "outputs": [
    {
     "name": "stdin",
     "output_type": "stream",
     "text": [
      "Enter your name Bhav\n"
     ]
    },
    {
     "name": "stdout",
     "output_type": "stream",
     "text": [
      "Bhav\n"
     ]
    }
   ],
   "source": [
    "a=input(\"Enter your name\")\n",
    "print(a)\n"
   ]
  },
  {
   "cell_type": "code",
   "execution_count": 45,
   "id": "0c863881-8a2f-4ec9-a847-0f782337b1ac",
   "metadata": {},
   "outputs": [
    {
     "name": "stdout",
     "output_type": "stream",
     "text": [
      "['1', '2', '3', '4', '5']\n",
      "[1, 2, 3, 4, 5]\n"
     ]
    }
   ],
   "source": [
    " list_number=\"1 2 3 4 5\".split()\n",
    "print(list_number)\n",
    "list=[]\n",
    "for i in list_number:\n",
    "    list.append(int(i))\n",
    "\n",
    "print(list)"
   ]
  },
  {
   "cell_type": "code",
   "execution_count": 49,
   "id": "364e3841-47ba-496f-8631-5e366e705430",
   "metadata": {},
   "outputs": [
    {
     "name": "stdin",
     "output_type": "stream",
     "text": [
      "Enter any float value 1.5\n"
     ]
    }
   ],
   "source": [
    "a=float(input(\"Enter any float value\"))"
   ]
  },
  {
   "cell_type": "markdown",
   "id": "5879755f-4e65-4944-8446-6b7f505e25db",
   "metadata": {},
   "source": [
    "# Print Function"
   ]
  },
  {
   "cell_type": "code",
   "execution_count": 51,
   "id": "01500a7a-9f68-4e69-a095-3f69608a6518",
   "metadata": {},
   "outputs": [
    {
     "name": "stdout",
     "output_type": "stream",
     "text": [
      "my name bhav 21 1\n"
     ]
    }
   ],
   "source": [
    "print(\"my\",\"name\",\"bhav\",21,1)\n"
   ]
  },
  {
   "cell_type": "code",
   "execution_count": 53,
   "id": "65f7cf9a-4b6a-4741-8a1e-d035033ad786",
   "metadata": {},
   "outputs": [],
   "source": [
    "# end argument\n",
    "# sep argument"
   ]
  },
  {
   "cell_type": "code",
   "execution_count": 55,
   "id": "fedafb27-b677-46dd-96f9-0fd5fe187b70",
   "metadata": {},
   "outputs": [
    {
     "name": "stdout",
     "output_type": "stream",
     "text": [
      "Hello World\n"
     ]
    }
   ],
   "source": [
    "print(\"Hello\",end=\" \")\n",
    "print(\"World\")"
   ]
  },
  {
   "cell_type": "code",
   "execution_count": 58,
   "id": "fe13b921-f85d-47be-8878-4e66f30ff21f",
   "metadata": {},
   "outputs": [
    {
     "name": "stdout",
     "output_type": "stream",
     "text": [
      "list*of*words\n"
     ]
    }
   ],
   "source": [
    "print(\"list\",\"of\",\"words\",sep=\"*\")"
   ]
  },
  {
   "cell_type": "code",
   "execution_count": 62,
   "id": "dd7f64f9-ce4c-4f08-b857-2fa68d0e11a2",
   "metadata": {},
   "outputs": [
    {
     "name": "stdout",
     "output_type": "stream",
     "text": [
      "capital of India is Delhi \n"
     ]
    }
   ],
   "source": [
    "myString=\"capital of %s is %s \"%(\"India\",\"Delhi\")\n",
    "print(myString)"
   ]
  },
  {
   "cell_type": "code",
   "execution_count": 64,
   "id": "d871cf60-db84-42cd-9509-b6650d1c2112",
   "metadata": {},
   "outputs": [
    {
     "name": "stdout",
     "output_type": "stream",
     "text": [
      "capital of India is Delhi\n"
     ]
    }
   ],
   "source": [
    "mystring2=\"capital of {} is {}\".format(\"India\",\"Delhi\")\n",
    "print(mystring2)"
   ]
  },
  {
   "cell_type": "code",
   "execution_count": 66,
   "id": "1077c6f0-27eb-4931-a843-895a8daf2052",
   "metadata": {},
   "outputs": [],
   "source": [
    "import pickle\n",
    "# name of the file where you have to store object\n",
    "file='file.data'\n",
    "obj=[1,2,3]\n",
    "\n",
    "#write to file\n",
    "f=open(file,'wb')\n",
    "#dump hte object to the file\n",
    "pickle.dump(obj,f)\n",
    "f.close()"
   ]
  },
  {
   "cell_type": "code",
   "execution_count": 68,
   "id": "ceefafec-d6d8-4682-bf1f-4fcdc7a535ec",
   "metadata": {},
   "outputs": [
    {
     "name": "stdout",
     "output_type": "stream",
     "text": [
      "[1, 2, 3]\n"
     ]
    }
   ],
   "source": [
    "f=open(file,'rb')\n",
    "#load the object from the file\n",
    "obj= pickle.load(f)\n",
    "print(obj)\n",
    "f.close()"
   ]
  },
  {
   "cell_type": "markdown",
   "id": "23ef6559-5310-4ec1-930d-fb584f7206bb",
   "metadata": {},
   "source": [
    "## Operators And Expressions"
   ]
  },
  {
   "cell_type": "code",
   "execution_count": 70,
   "id": "8c9f5698-75b6-48d1-9c41-1140286fcff7",
   "metadata": {},
   "outputs": [],
   "source": [
    "# Arithmetic Operator\n",
    "# Logical Operator\n",
    "# Conditional Operator\n",
    "# Bitwise Operator \n",
    "# Assignment Operator"
   ]
  },
  {
   "cell_type": "code",
   "execution_count": 72,
   "id": "ead0d7ed-ae78-4b75-946f-ca2aaeb03b69",
   "metadata": {},
   "outputs": [
    {
     "data": {
      "text/plain": [
       "5"
      ]
     },
     "execution_count": 72,
     "metadata": {},
     "output_type": "execute_result"
    }
   ],
   "source": [
    "2+3"
   ]
  },
  {
   "cell_type": "code",
   "execution_count": 74,
   "id": "ef1dfcd3-37d0-4088-a7bd-4d39aa23950b",
   "metadata": {},
   "outputs": [
    {
     "data": {
      "text/plain": [
       "-1"
      ]
     },
     "execution_count": 74,
     "metadata": {},
     "output_type": "execute_result"
    }
   ],
   "source": [
    "2-3"
   ]
  },
  {
   "cell_type": "code",
   "execution_count": 76,
   "id": "b8ab2c98-10f0-413d-8291-f6f87496ed21",
   "metadata": {},
   "outputs": [
    {
     "data": {
      "text/plain": [
       "6"
      ]
     },
     "execution_count": 76,
     "metadata": {},
     "output_type": "execute_result"
    }
   ],
   "source": [
    "2*3\n"
   ]
  },
  {
   "cell_type": "code",
   "execution_count": 77,
   "id": "533eb087-5ea7-4fc7-92d8-5a42954965bc",
   "metadata": {},
   "outputs": [
    {
     "data": {
      "text/plain": [
       "1.25"
      ]
     },
     "execution_count": 77,
     "metadata": {},
     "output_type": "execute_result"
    }
   ],
   "source": [
    "5/4"
   ]
  },
  {
   "cell_type": "code",
   "execution_count": 78,
   "id": "bbe57ec2-1869-424b-b46d-2b5032de60b0",
   "metadata": {},
   "outputs": [
    {
     "data": {
      "text/plain": [
       "1"
      ]
     },
     "execution_count": 78,
     "metadata": {},
     "output_type": "execute_result"
    }
   ],
   "source": [
    "5//4"
   ]
  },
  {
   "cell_type": "code",
   "execution_count": 79,
   "id": "07990e18-80a3-4ed8-b989-eab216140be3",
   "metadata": {},
   "outputs": [
    {
     "data": {
      "text/plain": [
       "10"
      ]
     },
     "execution_count": 79,
     "metadata": {},
     "output_type": "execute_result"
    }
   ],
   "source": [
    "5*2"
   ]
  },
  {
   "cell_type": "code",
   "execution_count": 80,
   "id": "94fb0fa0-6dd0-4f05-bea1-8e1e8a4e7505",
   "metadata": {},
   "outputs": [
    {
     "data": {
      "text/plain": [
       "25"
      ]
     },
     "execution_count": 80,
     "metadata": {},
     "output_type": "execute_result"
    }
   ],
   "source": [
    "5**2"
   ]
  },
  {
   "cell_type": "code",
   "execution_count": 81,
   "id": "8d8ad300-65bb-4f01-8e95-94203f699956",
   "metadata": {},
   "outputs": [
    {
     "data": {
      "text/plain": [
       "1"
      ]
     },
     "execution_count": 81,
     "metadata": {},
     "output_type": "execute_result"
    }
   ],
   "source": [
    "5%2"
   ]
  },
  {
   "cell_type": "code",
   "execution_count": 83,
   "id": "0fbf9ceb-4ad2-44d8-8f85-2c63c40ca29d",
   "metadata": {},
   "outputs": [],
   "source": [
    "# << , >> , & , ^  , ~ Bit wise Operator\n"
   ]
  },
  {
   "cell_type": "code",
   "execution_count": 86,
   "id": "69ae3e42-d15f-4090-83e1-55b7d678c4a3",
   "metadata": {},
   "outputs": [],
   "source": [
    "# logical Operator and, or , not"
   ]
  },
  {
   "cell_type": "code",
   "execution_count": 89,
   "id": "406d2be9-f6df-484f-b5f8-bd11cb7a4db5",
   "metadata": {},
   "outputs": [],
   "source": [
    "#Conditional Operator"
   ]
  },
  {
   "cell_type": "code",
   "execution_count": 92,
   "id": "aed49309-ef92-47a7-bf0a-332e5779e42a",
   "metadata": {},
   "outputs": [
    {
     "name": "stdout",
     "output_type": "stream",
     "text": [
      "Something Else\n"
     ]
    }
   ],
   "source": [
    "weather=\"sunny\"\n",
    "if weather==\"rainy\" and True:\n",
    "    print(\"Something\")\n",
    "else:\n",
    "    print(\"Something Else\")"
   ]
  },
  {
   "cell_type": "code",
   "execution_count": 93,
   "id": "b28e8959-011a-4f0a-9eb1-172a9ee6918e",
   "metadata": {},
   "outputs": [],
   "source": [
    "a=2;\n",
    "a+=1;#Short hand Operator"
   ]
  },
  {
   "cell_type": "code",
   "execution_count": 96,
   "id": "0ea96e44-0e6c-4595-9784-93c4e288cf92",
   "metadata": {},
   "outputs": [
    {
     "name": "stdout",
     "output_type": "stream",
     "text": [
      "A\n"
     ]
    }
   ],
   "source": [
    "name=\"coding club\"\n",
    "if name==\"coding club\":\n",
    "    print(\"A\")\n",
    "elif name == \"coding\":\n",
    "    print(\"B\")\n",
    "else:\n",
    "    print(\"C\")"
   ]
  },
  {
   "cell_type": "markdown",
   "id": "3d4e3d65-e0a4-43bf-be8d-032d6551c639",
   "metadata": {},
   "source": [
    "## Loops \n",
    "- For loop\n",
    "- while loop\n",
    "- for each loop"
   ]
  },
  {
   "cell_type": "code",
   "execution_count": 98,
   "id": "1231e137-c358-4be7-9ddb-fd10256f6276",
   "metadata": {},
   "outputs": [
    {
     "name": "stdout",
     "output_type": "stream",
     "text": [
      "1 2 3 4 5 6 7 8 9 10 11 12 13 14 15 16 17 18 19 20 "
     ]
    }
   ],
   "source": [
    "i=1\n",
    "while i<=20:\n",
    "    print(i,end=\" \")\n",
    "    i+=1\n"
   ]
  },
  {
   "cell_type": "code",
   "execution_count": 100,
   "id": "f3038ab7-876b-46dd-881c-beda506c56c7",
   "metadata": {},
   "outputs": [
    {
     "name": "stdout",
     "output_type": "stream",
     "text": [
      "362880\n"
     ]
    }
   ],
   "source": [
    "# print factorial of a number\n",
    "f=1\n",
    "for i in range(1,10):\n",
    "    f=f*i\n",
    "print(f)"
   ]
  },
  {
   "cell_type": "code",
   "execution_count": null,
   "id": "1ec43a97-e855-4969-83d8-f2681e6f2e3a",
   "metadata": {},
   "outputs": [],
   "source": [
    " a=range(1,10)\n",
    "# for i in range (start,end+1,step)\n",
    "for i in range(1,11,3):\n",
    "    print(i,end=\" \")\n",
    "#reverse loop 10 to 1\n",
    "for i in range(10,1,-1):\n",
    "    print(i,end=\" \")\n"
   ]
  },
  {
   "cell_type": "code",
   "execution_count": 109,
   "id": "ebe757f1-205b-4bf1-a5db-d04c4a1ee387",
   "metadata": {},
   "outputs": [
    {
     "name": "stdout",
     "output_type": "stream",
     "text": [
      "c o d i n   c "
     ]
    }
   ],
   "source": [
    "name=\"coding club\"\n",
    "for i in name:\n",
    "    if i=='g':\n",
    "        continue\n",
    "    if i=='l':\n",
    "        break\n",
    "    print(i,end=' ')"
   ]
  },
  {
   "cell_type": "code",
   "execution_count": 112,
   "id": "3c5ed4ce-296d-4c3e-b889-a6f076d0be0f",
   "metadata": {},
   "outputs": [],
   "source": [
    "if True:\n",
    "    pass\n",
    "    #Do nothing"
   ]
  },
  {
   "cell_type": "markdown",
   "id": "fd0b248b-216c-4106-94ec-fea5f4960510",
   "metadata": {},
   "source": [
    "#  Functions in Python"
   ]
  },
  {
   "cell_type": "code",
   "execution_count": 116,
   "id": "c2b7979b-ebcf-4257-a199-eb7ae0bbc8ed",
   "metadata": {},
   "outputs": [],
   "source": [
    "def say_hello(name=\"Bhav\"):\n",
    "    print(\"hello\",name)"
   ]
  },
  {
   "cell_type": "code",
   "execution_count": 120,
   "id": "99399195-4da3-4e24-ad8e-5fe2edeea958",
   "metadata": {},
   "outputs": [
    {
     "name": "stdout",
     "output_type": "stream",
     "text": [
      "hello Bhav\n",
      "hello Bhavshresth\n"
     ]
    }
   ],
   "source": [
    "say_hello()\n",
    "say_hello(\"Bhavshresth\")"
   ]
  },
  {
   "cell_type": "code",
   "execution_count": 132,
   "id": "376a3dd2-bc61-49a4-87bd-d7f19f021164",
   "metadata": {},
   "outputs": [
    {
     "name": "stdout",
     "output_type": "stream",
     "text": [
      "value of x is  50\n",
      "value of x is 2\n",
      "50\n"
     ]
    }
   ],
   "source": [
    "# local and global variable\n",
    "\n",
    "x=50\n",
    "\n",
    "def func(x):\n",
    "    print('value of x is ',x)\n",
    "    x=2\n",
    "    print('value of x is',x)\n",
    "func(x) \n",
    "print(x)"
   ]
  },
  {
   "cell_type": "markdown",
   "id": "bba5752b-95d7-4685-bfa6-df565474e06c",
   "metadata": {},
   "source": [
    "# Keyword Arguments"
   ]
  },
  {
   "cell_type": "code",
   "execution_count": 134,
   "id": "bf628b38-2413-4b9b-872a-3ae9da203cf9",
   "metadata": {},
   "outputs": [],
   "source": [
    "def func(name,roll,age,group):\n",
    "    print(name,roll,age,group)"
   ]
  },
  {
   "cell_type": "code",
   "execution_count": 138,
   "id": "278d09b7-c381-4834-b5cd-5e42d4f0c38b",
   "metadata": {},
   "outputs": [
    {
     "name": "stdout",
     "output_type": "stream",
     "text": [
      "Bhav 2 21 1\n",
      "2 Bhav 1 21\n"
     ]
    }
   ],
   "source": [
    "func(roll=2,name=\"Bhav\",group=1,age=21)\n",
    "func(2,\"Bhav\",1,21)"
   ]
  },
  {
   "cell_type": "markdown",
   "id": "53112fe5-9b6c-426e-95dd-13490d8fa0ca",
   "metadata": {},
   "source": [
    "# Variable Arguments"
   ]
  },
  {
   "cell_type": "code",
   "execution_count": 146,
   "id": "e051348f-700b-4fe2-be51-d7400316fda2",
   "metadata": {},
   "outputs": [],
   "source": [
    "def total(a=5,*numbers, **keyvalue):\n",
    "    print(a)\n",
    "\n",
    "    for i in numbers:\n",
    "        print(i,end=' ')\n",
    "    for i,j in keyvalue.items():\n",
    "        print(i,j)"
   ]
  },
  {
   "cell_type": "code",
   "execution_count": 148,
   "id": "f863ca2d-2567-4c28-86c6-351b4499e0f3",
   "metadata": {},
   "outputs": [
    {
     "name": "stdout",
     "output_type": "stream",
     "text": [
      "10\n",
      "20 30 3 4 5 6 7 8 BHAV name coding clud\n",
      "age 22\n",
      "year 2024\n"
     ]
    }
   ],
   "source": [
    "total(10,20,30,3,4,5,6,7,8,\"BHAV\", name=\"coding clud\",age=22,year=2024)"
   ]
  },
  {
   "cell_type": "markdown",
   "id": "88158ba7-c198-4b58-ad3e-3bf641aa1960",
   "metadata": {},
   "source": [
    "# List Comprehension"
   ]
  },
  {
   "cell_type": "code",
   "execution_count": 150,
   "id": "024dab05-ec24-4275-a3e3-ee3b6307e95e",
   "metadata": {},
   "outputs": [
    {
     "name": "stdin",
     "output_type": "stream",
     "text": [
      " 1 2 3 4 5\n"
     ]
    }
   ],
   "source": [
    "numbers=input().split()\n",
    "list_numbers=[]\n",
    "for i in numbers:\n",
    "    list_numbers.append(i)"
   ]
  },
  {
   "cell_type": "code",
   "execution_count": 151,
   "id": "47888592-f8da-46ac-8733-9bb739a9df44",
   "metadata": {},
   "outputs": [
    {
     "data": {
      "text/plain": [
       "['1', '2', '3', '4', '5']"
      ]
     },
     "execution_count": 151,
     "metadata": {},
     "output_type": "execute_result"
    }
   ],
   "source": [
    "list_numbers"
   ]
  },
  {
   "cell_type": "code",
   "execution_count": 157,
   "id": "5ab364e3-4e00-472e-b121-a9b4f37b98ae",
   "metadata": {},
   "outputs": [
    {
     "name": "stdin",
     "output_type": "stream",
     "text": [
      " 1 2 3 4 5\n"
     ]
    },
    {
     "name": "stdout",
     "output_type": "stream",
     "text": [
      "<class 'list'>\n",
      "[1, 2, 3, 4, 5]\n"
     ]
    }
   ],
   "source": [
    "list_numbers=[int(every_number) for every_number in input().split()]\n",
    "print(type(list_numbers))\n",
    "print(list_numbers)\n",
    "#list comprehension"
   ]
  },
  {
   "cell_type": "markdown",
   "id": "6b18ce3c-058a-409b-a3c8-7618a1f66cfd",
   "metadata": {},
   "source": [
    "## Python DataStructures\n",
    "- Strings\n",
    "- List\n",
    "- Tuples\n",
    "- Dictionaries\n",
    "- Sets"
   ]
  },
  {
   "cell_type": "markdown",
   "id": "0cebefa2-8242-4d9f-9670-bfb862f4de94",
   "metadata": {},
   "source": [
    "## Strings"
   ]
  },
  {
   "cell_type": "code",
   "execution_count": 159,
   "id": "45a816de-355f-49b6-ada0-6c866ea6e276",
   "metadata": {},
   "outputs": [],
   "source": [
    "a='Bhav'\n",
    "b=\"Bhav\"\n",
    "c='''\n",
    "BHav\n",
    "'''"
   ]
  },
  {
   "cell_type": "code",
   "execution_count": 161,
   "id": "0e56d443-51b6-4355-a20b-39070b7aac84",
   "metadata": {},
   "outputs": [
    {
     "data": {
      "text/plain": [
       "'B'"
      ]
     },
     "execution_count": 161,
     "metadata": {},
     "output_type": "execute_result"
    }
   ],
   "source": [
    "a[0]\n"
   ]
  },
  {
   "cell_type": "markdown",
   "id": "37de9b6d-b781-4424-9e63-3e716d542355",
   "metadata": {},
   "source": [
    "## Change | delete a string"
   ]
  },
  {
   "cell_type": "code",
   "execution_count": 162,
   "id": "84b7d1bd-c522-4b1e-9e04-c40c8f8b1a92",
   "metadata": {},
   "outputs": [],
   "source": [
    "#Strings are immutable"
   ]
  },
  {
   "cell_type": "code",
   "execution_count": 164,
   "id": "0c4196c4-21da-4327-98e4-33bee2dadc8c",
   "metadata": {},
   "outputs": [],
   "source": [
    "new_string=\"coding\"\n"
   ]
  },
  {
   "cell_type": "code",
   "execution_count": 166,
   "id": "1ff7cf82-9572-4b10-b5a0-7498a9bb8c04",
   "metadata": {},
   "outputs": [],
   "source": [
    "new_string=\"club\""
   ]
  },
  {
   "cell_type": "code",
   "execution_count": 167,
   "id": "9da6eb80-75a0-4a4b-9235-c78d5bce27a4",
   "metadata": {},
   "outputs": [],
   "source": [
    "del new_string"
   ]
  },
  {
   "cell_type": "markdown",
   "id": "455f4a5e-bc70-41ba-afe3-d1bfb0a1acc5",
   "metadata": {},
   "source": [
    "## Operations"
   ]
  },
  {
   "cell_type": "markdown",
   "id": "457af4f7-5bf1-4564-b43a-5a2cc1a53ae3",
   "metadata": {},
   "source": [
    "- Concateration\n",
    "- membership test\n",
    "- String Methods"
   ]
  },
  {
   "cell_type": "code",
   "execution_count": 168,
   "id": "6ba370c1-0fa6-4685-905c-cbaaf454b20e",
   "metadata": {},
   "outputs": [
    {
     "name": "stdout",
     "output_type": "stream",
     "text": [
      "HElloWorld\n"
     ]
    }
   ],
   "source": [
    "s1=\"Hello\"\n",
    "s2=\"World\"\n",
    "s3=s1+s2\n",
    "print(s3)"
   ]
  },
  {
   "cell_type": "code",
   "execution_count": 169,
   "id": "7f1e295b-8c66-4a98-a6a5-6757ec0f6369",
   "metadata": {},
   "outputs": [],
   "source": [
    "#Slicing\n",
    "a=\"this is the python session\"\n"
   ]
  },
  {
   "cell_type": "code",
   "execution_count": 172,
   "id": "55ef17c7-05a1-4900-a5d6-74c899434ae6",
   "metadata": {},
   "outputs": [
    {
     "data": {
      "text/plain": [
       "12"
      ]
     },
     "execution_count": 172,
     "metadata": {},
     "output_type": "execute_result"
    }
   ],
   "source": [
    "a.find(\"python\")\n"
   ]
  },
  {
   "cell_type": "code",
   "execution_count": 174,
   "id": "2e16ef9d-3148-4946-8bef-81930fd46a4a",
   "metadata": {},
   "outputs": [
    {
     "data": {
      "text/plain": [
       "'p'"
      ]
     },
     "execution_count": 174,
     "metadata": {},
     "output_type": "execute_result"
    }
   ],
   "source": [
    "a[12]"
   ]
  },
  {
   "cell_type": "code",
   "execution_count": 177,
   "id": "708483e0-cce9-4782-a929-bf25464b4686",
   "metadata": {},
   "outputs": [
    {
     "name": "stdout",
     "output_type": "stream",
     "text": [
      "pto eso\n"
     ]
    }
   ],
   "source": [
    "sliced =a[12:26:2]\n",
    "print(sliced)"
   ]
  },
  {
   "cell_type": "code",
   "execution_count": 180,
   "id": "a11a5f78-6a4b-4af8-80ed-3825565f0ce6",
   "metadata": {},
   "outputs": [
    {
     "name": "stdout",
     "output_type": "stream",
     "text": [
      "gnidoc\n"
     ]
    }
   ],
   "source": [
    "#How can i reverse a string using slicing\n",
    "a=\"coding\"\n",
    "slice=a[::-1]\n",
    "print(slice)"
   ]
  },
  {
   "cell_type": "code",
   "execution_count": 182,
   "id": "63c8c978-229c-42dc-acda-f96691ab248f",
   "metadata": {},
   "outputs": [
    {
     "name": "stdout",
     "output_type": "stream",
     "text": [
      "present\n"
     ]
    }
   ],
   "source": [
    "#membership operator\n",
    "if 'in' in a:\n",
    "    print (\"present\")"
   ]
  },
  {
   "cell_type": "code",
   "execution_count": 185,
   "id": "59c1c9e1-c42e-4a7a-b124-a0d137c0fc88",
   "metadata": {},
   "outputs": [
    {
     "data": {
      "text/plain": [
       "'coding'"
      ]
     },
     "execution_count": 185,
     "metadata": {},
     "output_type": "execute_result"
    }
   ],
   "source": [
    "#string methods\n",
    "a.lower()"
   ]
  },
  {
   "cell_type": "code",
   "execution_count": 186,
   "id": "ca9b8773-755f-42f8-bdda-3666b4148118",
   "metadata": {},
   "outputs": [
    {
     "data": {
      "text/plain": [
       "'CODING'"
      ]
     },
     "execution_count": 186,
     "metadata": {},
     "output_type": "execute_result"
    }
   ],
   "source": [
    "a.upper()"
   ]
  },
  {
   "cell_type": "code",
   "execution_count": 188,
   "id": "133bc620-8805-4db7-8012-b7b361eb8a77",
   "metadata": {},
   "outputs": [
    {
     "data": {
      "text/plain": [
       "'Coding Club'"
      ]
     },
     "execution_count": 188,
     "metadata": {},
     "output_type": "execute_result"
    }
   ],
   "source": [
    "a=\"coding club\"\n",
    "a.title()"
   ]
  },
  {
   "cell_type": "code",
   "execution_count": 190,
   "id": "96df6d4e-944e-4d7a-96b1-8abdd83c6918",
   "metadata": {},
   "outputs": [
    {
     "data": {
      "text/plain": [
       "'Coding club'"
      ]
     },
     "execution_count": 190,
     "metadata": {},
     "output_type": "execute_result"
    }
   ],
   "source": [
    "a.capitalize()\n"
   ]
  },
  {
   "cell_type": "code",
   "execution_count": 192,
   "id": "de65a999-88f9-4e4d-a320-8ccf00ea7ed7",
   "metadata": {},
   "outputs": [
    {
     "data": {
      "text/plain": [
       "11"
      ]
     },
     "execution_count": 192,
     "metadata": {},
     "output_type": "execute_result"
    }
   ],
   "source": [
    "len(a)"
   ]
  },
  {
   "cell_type": "code",
   "execution_count": 194,
   "id": "783deca8-338c-4a1f-b6a2-be29ba66d118",
   "metadata": {},
   "outputs": [
    {
     "data": {
      "text/plain": [
       "7"
      ]
     },
     "execution_count": 194,
     "metadata": {},
     "output_type": "execute_result"
    }
   ],
   "source": [
    "a.find(\"club\")\n",
    "#if not present it will give me a false"
   ]
  },
  {
   "cell_type": "code",
   "execution_count": 196,
   "id": "632c0265-def2-40a4-9f93-380661647ba9",
   "metadata": {},
   "outputs": [
    {
     "data": {
      "text/plain": [
       "7"
      ]
     },
     "execution_count": 196,
     "metadata": {},
     "output_type": "execute_result"
    }
   ],
   "source": [
    "a.index(\"club\")\n",
    "#if false then it will show a error"
   ]
  },
  {
   "cell_type": "code",
   "execution_count": 197,
   "id": "082b7dc4-f4e7-4981-a5ae-f882bbb911e1",
   "metadata": {},
   "outputs": [],
   "source": [
    "def check_substring(strn,sub):\n",
    "    if strn.find(sub)== -1:\n",
    "        print(\"Not Found\")\n",
    "    else:\n",
    "        print(\"Found\")"
   ]
  },
  {
   "cell_type": "code",
   "execution_count": 201,
   "id": "39af91b0-501f-4826-8714-642538bff0e7",
   "metadata": {},
   "outputs": [
    {
     "name": "stdout",
     "output_type": "stream",
     "text": [
      "Found\n"
     ]
    }
   ],
   "source": [
    "check_substring(\"coding club\",\"ing\")"
   ]
  },
  {
   "cell_type": "code",
   "execution_count": 203,
   "id": "9e9de6b5-5e8c-4142-8abc-9a17866d23e6",
   "metadata": {},
   "outputs": [],
   "source": [
    "#we can go through all the function using tab (a.TAB button)"
   ]
  },
  {
   "cell_type": "markdown",
   "id": "011b2b34-2ce5-461a-bd35-c9671ece6640",
   "metadata": {},
   "source": [
    "# List"
   ]
  },
  {
   "cell_type": "code",
   "execution_count": 3,
   "id": "083b0521-f5f8-4262-b205-63d4524c73df",
   "metadata": {},
   "outputs": [
    {
     "name": "stdout",
     "output_type": "stream",
     "text": [
      "['mango', 'banana', 'apple'] <class 'list'>\n",
      "['mango', 2, 2.5, 'values'] <class 'list'>\n"
     ]
    }
   ],
   "source": [
    "#It is an hetrogeneous array\n",
    "l=[\"mango\",\"banana\",\"apple\"]\n",
    "l2= list([\"mango\", 2, 2.5, \"values\"])\n",
    "#list constructor\n",
    "print(l,type(l))\n",
    "print(l2,type(l2))"
   ]
  },
  {
   "cell_type": "code",
   "execution_count": 5,
   "id": "bc9f8e04-db80-4bc2-a6c9-b5fd42083e4a",
   "metadata": {},
   "outputs": [],
   "source": [
    "l[2]=\"guava\""
   ]
  },
  {
   "cell_type": "code",
   "execution_count": 8,
   "id": "14ef00ad-a945-47aa-9e46-bac004deefef",
   "metadata": {},
   "outputs": [
    {
     "name": "stdout",
     "output_type": "stream",
     "text": [
      "['mango', 'banana', 'guava']\n"
     ]
    }
   ],
   "source": [
    "print(l)\n",
    "#List are mutable"
   ]
  },
  {
   "cell_type": "code",
   "execution_count": 12,
   "id": "5c5b4737-37aa-4a7c-8aa2-6b1ae9ed8cb8",
   "metadata": {},
   "outputs": [
    {
     "name": "stdout",
     "output_type": "stream",
     "text": [
      "[1, 2, 3, 4]\n",
      "[1, 2, 3, 4, 1, 2, 3, 4]\n",
      "[1, 2, 3, 4, 1, 2, 3, 4, [...]]\n"
     ]
    }
   ],
   "source": [
    "l=[1,2,3,4]\n",
    "l+l\n",
    "print(l)\n",
    "l.extend(l)\n",
    "print(l)\n",
    "l.append(l)\n",
    "print(l)"
   ]
  },
  {
   "cell_type": "code",
   "execution_count": 13,
   "id": "0572ed23-df6d-42ca-8459-21bce2fd1bf4",
   "metadata": {},
   "outputs": [
    {
     "data": {
      "text/plain": [
       "9"
      ]
     },
     "execution_count": 13,
     "metadata": {},
     "output_type": "execute_result"
    }
   ],
   "source": [
    "len(l)"
   ]
  },
  {
   "cell_type": "code",
   "execution_count": 15,
   "id": "7464d541-7d2b-45dc-ab01-c33768b4735f",
   "metadata": {},
   "outputs": [
    {
     "name": "stdout",
     "output_type": "stream",
     "text": [
      "[1, 2, 'apple', 3]\n"
     ]
    }
   ],
   "source": [
    "lst=[1,2,3]\n",
    "lst.insert(2,\"apple\")\n",
    "print(lst)"
   ]
  },
  {
   "cell_type": "code",
   "execution_count": 22,
   "id": "e114dff0-7e78-46b1-9964-d20aad0a7e53",
   "metadata": {},
   "outputs": [
    {
     "name": "stdout",
     "output_type": "stream",
     "text": [
      "[]\n"
     ]
    }
   ],
   "source": [
    "#lst.remove(\"apple\")\n",
    "del lst[0]\n",
    "print(lst)"
   ]
  },
  {
   "cell_type": "code",
   "execution_count": 19,
   "id": "336835b6-67aa-4641-afc6-6362fd9f3ce2",
   "metadata": {},
   "outputs": [
    {
     "data": {
      "text/plain": [
       "[1, 2, 3]"
      ]
     },
     "execution_count": 19,
     "metadata": {},
     "output_type": "execute_result"
    }
   ],
   "source": [
    "lst"
   ]
  },
  {
   "cell_type": "code",
   "execution_count": 21,
   "id": "3b981156-9a8c-43c1-8c1c-a6eeb9bfd0c9",
   "metadata": {},
   "outputs": [
    {
     "data": {
      "text/plain": [
       "2"
      ]
     },
     "execution_count": 21,
     "metadata": {},
     "output_type": "execute_result"
    }
   ],
   "source": [
    "lst.pop()"
   ]
  },
  {
   "cell_type": "code",
   "execution_count": 24,
   "id": "ee8f74e6-dd6f-44fa-bcb7-65620f4edbf5",
   "metadata": {},
   "outputs": [
    {
     "name": "stdout",
     "output_type": "stream",
     "text": [
      "[1, 2, 3, 1, 2, 3, 1, 2, 3]\n"
     ]
    }
   ],
   "source": [
    "lst=[1,2,3]\n",
    "lst=lst*3\n",
    "print(lst)"
   ]
  },
  {
   "cell_type": "code",
   "execution_count": 26,
   "id": "2a5a6897-73a3-4335-8432-a62aff6eb6a1",
   "metadata": {},
   "outputs": [
    {
     "name": "stdout",
     "output_type": "stream",
     "text": [
      "abcabcabc\n"
     ]
    }
   ],
   "source": [
    "str=\"abc\"\n",
    "str=str*3\n",
    "print(str)"
   ]
  },
  {
   "cell_type": "code",
   "execution_count": 30,
   "id": "0e4b4f33-20a6-480f-bd8b-4e453dbc6108",
   "metadata": {},
   "outputs": [
    {
     "data": {
      "text/plain": [
       "[3, 2, 1, 3, 2, 1, 3, 2, 1]"
      ]
     },
     "execution_count": 30,
     "metadata": {},
     "output_type": "execute_result"
    }
   ],
   "source": [
    "lst.reverse()\n",
    "lst[::-1]"
   ]
  },
  {
   "cell_type": "code",
   "execution_count": 32,
   "id": "5295923f-de28-4565-91c7-ebb9f7d361c4",
   "metadata": {},
   "outputs": [
    {
     "name": "stdout",
     "output_type": "stream",
     "text": [
      "[1, 2, 3, 1, 2, 3, 1, 2, 3]\n"
     ]
    }
   ],
   "source": [
    "print(lst)"
   ]
  },
  {
   "cell_type": "code",
   "execution_count": 36,
   "id": "8f2c28fd-cf6c-4241-b42c-cd10372f9604",
   "metadata": {},
   "outputs": [
    {
     "name": "stdout",
     "output_type": "stream",
     "text": [
      "[2, 2, 3, 4, 4, 64]\n"
     ]
    }
   ],
   "source": [
    "numbers=[4,3,2,64,4,2]\n",
    "sorted_list=sorted(numbers)\n",
    "print(sorted_list)\n",
    "# another way numbers.sort()"
   ]
  },
  {
   "cell_type": "code",
   "execution_count": 38,
   "id": "691178ae-2963-464d-9636-8b0c5ed959a6",
   "metadata": {},
   "outputs": [
    {
     "name": "stdout",
     "output_type": "stream",
     "text": [
      "[1, 2, 3, 4, 6]\n",
      "[1, 2, 3, 4, 6]\n"
     ]
    }
   ],
   "source": [
    "lst=[1,2,3,4]\n",
    "abc=lst\n",
    "abc.append(6)\n",
    "\n",
    "print(lst)\n",
    "print(abc)\n",
    "#As they are using the same memory location"
   ]
  },
  {
   "cell_type": "markdown",
   "id": "ff318de7-7fb1-44ff-af16-fae961cdc314",
   "metadata": {},
   "source": [
    "# Tuple"
   ]
  },
  {
   "cell_type": "code",
   "execution_count": 40,
   "id": "3507a079-73fa-4157-b77d-c633fb38791b",
   "metadata": {},
   "outputs": [
    {
     "name": "stdout",
     "output_type": "stream",
     "text": [
      "<class 'tuple'>\n"
     ]
    }
   ],
   "source": [
    "#It is same as list but list was mutable and the tuple is immutable\n",
    "t=(1,2,'umbers',3.5)\n",
    "print(type(t))"
   ]
  },
  {
   "cell_type": "code",
   "execution_count": 42,
   "id": "92dd3bcc-a237-4e40-a3b5-921fe1af7543",
   "metadata": {},
   "outputs": [
    {
     "ename": "TypeError",
     "evalue": "'tuple' object does not support item assignment",
     "output_type": "error",
     "traceback": [
      "\u001b[1;31m---------------------------------------------------------------------------\u001b[0m",
      "\u001b[1;31mTypeError\u001b[0m                                 Traceback (most recent call last)",
      "Cell \u001b[1;32mIn[42], line 1\u001b[0m\n\u001b[1;32m----> 1\u001b[0m t[\u001b[38;5;241m3\u001b[39m]\u001b[38;5;241m=\u001b[39m\u001b[38;5;241m4\u001b[39m\n",
      "\u001b[1;31mTypeError\u001b[0m: 'tuple' object does not support item assignment"
     ]
    }
   ],
   "source": [
    "t[3]=4"
   ]
  },
  {
   "cell_type": "code",
   "execution_count": 44,
   "id": "36ce002c-bc86-4587-80c0-7bc3e01511f9",
   "metadata": {},
   "outputs": [],
   "source": [
    "#Shows error as it is immutable"
   ]
  },
  {
   "cell_type": "code",
   "execution_count": 48,
   "id": "ccafb169-e703-4fa2-96e8-57504a28d849",
   "metadata": {},
   "outputs": [
    {
     "name": "stdout",
     "output_type": "stream",
     "text": [
      "('Bhav',) <class 'tuple'>\n"
     ]
    }
   ],
   "source": [
    "t=(\"Bhav\",)\n",
    "print(t,type(t))"
   ]
  },
  {
   "cell_type": "code",
   "execution_count": 50,
   "id": "2a5d3568-ce8a-44b8-b0ed-6132d93a3cee",
   "metadata": {},
   "outputs": [],
   "source": [
    "#in any case of list tuple or string we can use -ve indexing"
   ]
  },
  {
   "cell_type": "code",
   "execution_count": 54,
   "id": "10d9b717-f637-486e-9469-c5b965f4547b",
   "metadata": {},
   "outputs": [
    {
     "data": {
      "text/plain": [
       "'a'"
      ]
     },
     "execution_count": 54,
     "metadata": {},
     "output_type": "execute_result"
    }
   ],
   "source": [
    "t[-1][-2]"
   ]
  },
  {
   "cell_type": "code",
   "execution_count": 56,
   "id": "5d20242e-ee7c-4985-9cb3-f163e40474f5",
   "metadata": {},
   "outputs": [
    {
     "name": "stdout",
     "output_type": "stream",
     "text": [
      "('abc', 'def', (1, 2, 3))\n"
     ]
    }
   ],
   "source": [
    "#nested tuple\n",
    "t=('abc','def',(1,2,3))\n",
    "print(t)"
   ]
  },
  {
   "cell_type": "code",
   "execution_count": 58,
   "id": "fc94cf3a-b335-4ed1-b2d3-640b4c909d9d",
   "metadata": {},
   "outputs": [
    {
     "ename": "NameError",
     "evalue": "name 't' is not defined",
     "output_type": "error",
     "traceback": [
      "\u001b[1;31m---------------------------------------------------------------------------\u001b[0m",
      "\u001b[1;31mNameError\u001b[0m                                 Traceback (most recent call last)",
      "Cell \u001b[1;32mIn[58], line 1\u001b[0m\n\u001b[1;32m----> 1\u001b[0m \u001b[38;5;28;01mdel\u001b[39;00m t\n",
      "\u001b[1;31mNameError\u001b[0m: name 't' is not defined"
     ]
    }
   ],
   "source": [
    "del t"
   ]
  },
  {
   "cell_type": "code",
   "execution_count": 60,
   "id": "cfbb0b0a-aa29-44a8-8d4d-6605041d9d1e",
   "metadata": {},
   "outputs": [
    {
     "data": {
      "text/plain": [
       "4"
      ]
     },
     "execution_count": 60,
     "metadata": {},
     "output_type": "execute_result"
    }
   ],
   "source": [
    "t=(1,2,3,4,5,1,2,1,2,3,4,2,3,1)\n",
    "t.count(1)"
   ]
  },
  {
   "cell_type": "code",
   "execution_count": 62,
   "id": "54126a1f-8a1a-4a54-bd43-7d61f9a4864f",
   "metadata": {},
   "outputs": [
    {
     "data": {
      "text/plain": [
       "1"
      ]
     },
     "execution_count": 62,
     "metadata": {},
     "output_type": "execute_result"
    }
   ],
   "source": [
    "t.index(2)"
   ]
  },
  {
   "cell_type": "code",
   "execution_count": 64,
   "id": "f65f60fa-b374-4b13-b51d-4757426dce73",
   "metadata": {},
   "outputs": [
    {
     "name": "stdout",
     "output_type": "stream",
     "text": [
      "False\n"
     ]
    }
   ],
   "source": [
    "print(10 in t)"
   ]
  },
  {
   "cell_type": "code",
   "execution_count": 66,
   "id": "813f6955-2d8c-40c6-af01-6e328e747e07",
   "metadata": {},
   "outputs": [
    {
     "data": {
      "text/plain": [
       "1"
      ]
     },
     "execution_count": 66,
     "metadata": {},
     "output_type": "execute_result"
    }
   ],
   "source": [
    "min(t)"
   ]
  },
  {
   "cell_type": "code",
   "execution_count": 68,
   "id": "081e135a-44ae-44fe-bcf9-c5066e4376cd",
   "metadata": {},
   "outputs": [
    {
     "data": {
      "text/plain": [
       "5"
      ]
     },
     "execution_count": 68,
     "metadata": {},
     "output_type": "execute_result"
    }
   ],
   "source": [
    "max(t)"
   ]
  },
  {
   "cell_type": "code",
   "execution_count": 70,
   "id": "af56a538-919b-4e9d-afaa-27db32351583",
   "metadata": {},
   "outputs": [
    {
     "name": "stdout",
     "output_type": "stream",
     "text": [
      "[1, 1, 1, 1, 2, 2, 2, 2, 3, 3, 3, 4, 4, 5]\n"
     ]
    }
   ],
   "source": [
    "t=sorted(t)\n",
    "print(t)"
   ]
  },
  {
   "cell_type": "markdown",
   "id": "9467e217-ba5e-407c-b5db-8b5c59c7d508",
   "metadata": {},
   "source": [
    "## Sets\n"
   ]
  },
  {
   "cell_type": "code",
   "execution_count": 72,
   "id": "cb5a10b1-6a42-49a8-b150-7e6503e1956a",
   "metadata": {},
   "outputs": [],
   "source": [
    "# unordered collections of items, unique elements, mutable used to perforem Union, intersection and etc math operations"
   ]
  },
  {
   "cell_type": "code",
   "execution_count": 74,
   "id": "81b98825-6547-4176-8292-80c4a94c1449",
   "metadata": {},
   "outputs": [
    {
     "name": "stdout",
     "output_type": "stream",
     "text": [
      "{1, 2, 3, 4} <class 'set'>\n"
     ]
    }
   ],
   "source": [
    "s={1,2,3,4}\n",
    "print(s,type(s))"
   ]
  },
  {
   "cell_type": "code",
   "execution_count": 76,
   "id": "be90a498-d018-434f-b8fe-390c89ff010e",
   "metadata": {},
   "outputs": [
    {
     "name": "stdout",
     "output_type": "stream",
     "text": [
      "{1, 2, 3}\n"
     ]
    }
   ],
   "source": [
    "s=set([1,2,3])\n",
    "print(s)"
   ]
  },
  {
   "cell_type": "code",
   "execution_count": 79,
   "id": "a77c99df-0d1f-46e8-99e3-b06fa5ea8502",
   "metadata": {},
   "outputs": [
    {
     "name": "stdout",
     "output_type": "stream",
     "text": [
      "{1, 2, 3, 4}\n"
     ]
    }
   ],
   "source": [
    "s.add(4)\n",
    "print(s)"
   ]
  },
  {
   "cell_type": "code",
   "execution_count": 81,
   "id": "a72646d2-270b-4242-b617-d790a6346acd",
   "metadata": {},
   "outputs": [
    {
     "data": {
      "text/plain": [
       "{1, 2, 3, 4, 5, 6, 7}"
      ]
     },
     "execution_count": 81,
     "metadata": {},
     "output_type": "execute_result"
    }
   ],
   "source": [
    "s.update([5,6,1,7])\n",
    "s"
   ]
  },
  {
   "cell_type": "code",
   "execution_count": 84,
   "id": "ebe42a47-242d-4d38-8cb7-f9b9bf3c5a27",
   "metadata": {},
   "outputs": [
    {
     "data": {
      "text/plain": [
       "{1, 2, 3, 5, 6, 7}"
      ]
     },
     "execution_count": 84,
     "metadata": {},
     "output_type": "execute_result"
    }
   ],
   "source": [
    "s.discard(4)\n",
    "s"
   ]
  },
  {
   "cell_type": "code",
   "execution_count": 87,
   "id": "77b0a495-9efd-4759-a815-f95274c464bc",
   "metadata": {},
   "outputs": [
    {
     "ename": "KeyError",
     "evalue": "3",
     "output_type": "error",
     "traceback": [
      "\u001b[1;31m---------------------------------------------------------------------------\u001b[0m",
      "\u001b[1;31mKeyError\u001b[0m                                  Traceback (most recent call last)",
      "Cell \u001b[1;32mIn[87], line 1\u001b[0m\n\u001b[1;32m----> 1\u001b[0m s\u001b[38;5;241m.\u001b[39mremove(\u001b[38;5;241m3\u001b[39m)\n",
      "\u001b[1;31mKeyError\u001b[0m: 3"
     ]
    }
   ],
   "source": [
    "s.remove(3)"
   ]
  },
  {
   "cell_type": "code",
   "execution_count": 88,
   "id": "1747b936-125b-4cc0-b355-ff8354fcbbd0",
   "metadata": {},
   "outputs": [
    {
     "data": {
      "text/plain": [
       "1"
      ]
     },
     "execution_count": 88,
     "metadata": {},
     "output_type": "execute_result"
    }
   ],
   "source": [
    "s.pop()#will remove any ramdom element"
   ]
  },
  {
   "cell_type": "markdown",
   "id": "3d08dd46-8573-4b4d-9ca7-a9ae14990a5e",
   "metadata": {},
   "source": [
    "# Set Operations\n"
   ]
  },
  {
   "cell_type": "code",
   "execution_count": 92,
   "id": "49def60f-6954-4a77-ae0e-c9cad78776a5",
   "metadata": {},
   "outputs": [
    {
     "name": "stdout",
     "output_type": "stream",
     "text": [
      "{1, 2, 3, 4, 5, 6}\n",
      "{1, 2, 3, 4, 5, 6}\n"
     ]
    }
   ],
   "source": [
    "set1={1,2,3,4}\n",
    "set2={1,2,3,4,5,6}\n",
    "print(set1 | set2) # used for union\n",
    "print(set1.union(set2))"
   ]
  },
  {
   "cell_type": "code",
   "execution_count": 93,
   "id": "45323981-c35b-45d2-be77-6b0abff30a3a",
   "metadata": {},
   "outputs": [
    {
     "name": "stdout",
     "output_type": "stream",
     "text": [
      "{2, 3, 4}\n"
     ]
    }
   ],
   "source": [
    "print(set1 & set2) # intersection"
   ]
  },
  {
   "cell_type": "code",
   "execution_count": 95,
   "id": "38ba34a7-e3dd-480c-bab9-8fce1505c130",
   "metadata": {},
   "outputs": [
    {
     "name": "stdout",
     "output_type": "stream",
     "text": [
      "{1}\n"
     ]
    }
   ],
   "source": [
    "print(set1-set2) #difference"
   ]
  },
  {
   "cell_type": "code",
   "execution_count": 97,
   "id": "dafe1158-827a-4eab-acbe-3a6528c63533",
   "metadata": {},
   "outputs": [
    {
     "name": "stdout",
     "output_type": "stream",
     "text": [
      "{1, 5, 6}\n"
     ]
    }
   ],
   "source": [
    "print(set1 ^ set2)"
   ]
  },
  {
   "cell_type": "code",
   "execution_count": 102,
   "id": "b7745a48-021c-48b2-abbd-121d1cd0e8b7",
   "metadata": {},
   "outputs": [
    {
     "data": {
      "text/plain": [
       "False"
      ]
     },
     "execution_count": 102,
     "metadata": {},
     "output_type": "execute_result"
    }
   ],
   "source": [
    "set2.issubset(set1)"
   ]
  },
  {
   "cell_type": "code",
   "execution_count": 104,
   "id": "63925679-84fe-4a41-887f-0c6dd939f797",
   "metadata": {},
   "outputs": [
    {
     "name": "stdout",
     "output_type": "stream",
     "text": [
      "()\n",
      "()\n",
      "(1, 2, 3)\n"
     ]
    }
   ],
   "source": [
    "a=()\n",
    "print(a)\n",
    "a=tuple()\n",
    "print(a)\n",
    "\n",
    "a=(1,2,3)\n",
    "print(a)"
   ]
  },
  {
   "cell_type": "markdown",
   "id": "2088e81d-6ac0-4dc7-b700-bc1ddb8f86aa",
   "metadata": {},
   "source": [
    "# Dictionaries"
   ]
  },
  {
   "cell_type": "code",
   "execution_count": 133,
   "id": "b0b0f583-3a23-42bc-9fca-e201706e40dc",
   "metadata": {},
   "outputs": [],
   "source": [
    "# it stores the value in term of Hashmap key:value pairing\n",
    "# hashMaps-: JAVA,CPP\n",
    "# JSON-: JavaScript"
   ]
  },
  {
   "cell_type": "code",
   "execution_count": 134,
   "id": "d87274db-b1c6-4626-8b86-b7dc08a3931e",
   "metadata": {},
   "outputs": [
    {
     "name": "stdout",
     "output_type": "stream",
     "text": [
      "{'name': 'Bhav', 'age': 21} <class 'dict'>\n"
     ]
    }
   ],
   "source": [
    "dic={\"name\":\"Bhav\",\"age\":21}\n",
    "print(dic,type(dic))"
   ]
  },
  {
   "cell_type": "code",
   "execution_count": 135,
   "id": "a3ef7156-33f1-4d2a-9669-e081f5bfdde3",
   "metadata": {},
   "outputs": [
    {
     "name": "stdout",
     "output_type": "stream",
     "text": [
      "<class 'set'> <class 'set'> <class 'dict'>\n"
     ]
    }
   ],
   "source": [
    "set1={1,2,3}#set are declared by this method by when it is empty it acts as a dictorary\n",
    "dic={}\n",
    "print(type(set1),type(set2),type(dic))"
   ]
  },
  {
   "cell_type": "code",
   "execution_count": 137,
   "id": "ad31333c-5e47-4a8c-b12d-cffae1b230ae",
   "metadata": {},
   "outputs": [],
   "source": [
    "dic1={\"name\":\"OM\",\"city\":\"Bhubaneswar\"}"
   ]
  },
  {
   "cell_type": "code",
   "execution_count": 139,
   "id": "70d9d7fb-0385-4df3-a13c-c90af4d1c4ca",
   "metadata": {},
   "outputs": [
    {
     "data": {
      "text/plain": [
       "{'name': 'OM', 'city': 'Bhubaneswar'}"
      ]
     },
     "execution_count": 139,
     "metadata": {},
     "output_type": "execute_result"
    }
   ],
   "source": [
    "dic1"
   ]
  },
  {
   "cell_type": "code",
   "execution_count": 141,
   "id": "7498f82f-060d-4fa2-99d6-9dd8f14d8bda",
   "metadata": {},
   "outputs": [
    {
     "name": "stdout",
     "output_type": "stream",
     "text": [
      "OM\n"
     ]
    }
   ],
   "source": [
    "print(dic1.get(\"name\"))"
   ]
  },
  {
   "cell_type": "code",
   "execution_count": 142,
   "id": "d69fc4a7-e517-4717-8626-ababaac56691",
   "metadata": {},
   "outputs": [],
   "source": [
    "dic1[\"city\"]=\"delhi\""
   ]
  },
  {
   "cell_type": "code",
   "execution_count": 144,
   "id": "ed53038c-ca9a-404d-a3f7-995f1285d502",
   "metadata": {},
   "outputs": [
    {
     "data": {
      "text/plain": [
       "{'name': 'OM', 'city': 'delhi'}"
      ]
     },
     "execution_count": 144,
     "metadata": {},
     "output_type": "execute_result"
    }
   ],
   "source": [
    "dic1"
   ]
  },
  {
   "cell_type": "code",
   "execution_count": 146,
   "id": "7d160476-070f-4dcb-a36f-a270e18e4f1a",
   "metadata": {},
   "outputs": [
    {
     "data": {
      "text/plain": [
       "('name', 'OM')"
      ]
     },
     "execution_count": 146,
     "metadata": {},
     "output_type": "execute_result"
    }
   ],
   "source": [
    "dic1.popitem()"
   ]
  },
  {
   "cell_type": "code",
   "execution_count": 149,
   "id": "4ec96500-b210-4071-8b82-d26bab50f08a",
   "metadata": {},
   "outputs": [
    {
     "ename": "KeyError",
     "evalue": "'name'",
     "output_type": "error",
     "traceback": [
      "\u001b[1;31m---------------------------------------------------------------------------\u001b[0m",
      "\u001b[1;31mKeyError\u001b[0m                                  Traceback (most recent call last)",
      "Cell \u001b[1;32mIn[149], line 1\u001b[0m\n\u001b[1;32m----> 1\u001b[0m \u001b[38;5;28;01mdel\u001b[39;00m dic1[\u001b[38;5;124m\"\u001b[39m\u001b[38;5;124mname\u001b[39m\u001b[38;5;124m\"\u001b[39m]\n",
      "\u001b[1;31mKeyError\u001b[0m: 'name'"
     ]
    }
   ],
   "source": [
    "del dic1[\"name\"]\n"
   ]
  },
  {
   "cell_type": "code",
   "execution_count": 152,
   "id": "4fec00e8-1b8e-4d76-a772-4bcff7a686d1",
   "metadata": {},
   "outputs": [
    {
     "data": {
      "text/plain": [
       "{}"
      ]
     },
     "execution_count": 152,
     "metadata": {},
     "output_type": "execute_result"
    }
   ],
   "source": [
    "dic1.clear()\n",
    "dic1"
   ]
  },
  {
   "cell_type": "code",
   "execution_count": 154,
   "id": "816238fd-3e9b-4640-bb40-4ad8dcfd187a",
   "metadata": {},
   "outputs": [
    {
     "data": {
      "text/plain": [
       "{}"
      ]
     },
     "execution_count": 154,
     "metadata": {},
     "output_type": "execute_result"
    }
   ],
   "source": [
    "dic1"
   ]
  },
  {
   "cell_type": "code",
   "execution_count": 156,
   "id": "acc80fe3-b0a1-4212-bf93-ecc39a4d7abc",
   "metadata": {},
   "outputs": [],
   "source": [
    "# dic1.keys()\n",
    "# dic1.values()\n",
    "# dic1.items()"
   ]
  },
  {
   "cell_type": "code",
   "execution_count": 158,
   "id": "f354982a-dd35-4dc1-b2c2-a497ff0ad930",
   "metadata": {},
   "outputs": [
    {
     "data": {
      "text/plain": [
       "' for k,v in dic1.items():\\n        print(\"key is {} and values is\".format(k,v))'"
      ]
     },
     "execution_count": 158,
     "metadata": {},
     "output_type": "execute_result"
    }
   ],
   "source": [
    "\"\"\" for k,v in dic1.items():\n",
    "        print(\"key is {} and values is\".format(k,v))\"\"\""
   ]
  },
  {
   "cell_type": "markdown",
   "id": "68e309f3-ea21-4497-80b6-230a1787f1e0",
   "metadata": {},
   "source": [
    "# Advance Concepts of Python\n",
    "- Classes ad objects(OOPS)\n",
    "- Exception Handling"
   ]
  },
  {
   "cell_type": "code",
   "execution_count": 2,
   "id": "66cbb503-5b59-4c52-9f30-6d1fdebead24",
   "metadata": {},
   "outputs": [
    {
     "name": "stdout",
     "output_type": "stream",
     "text": [
      "<__main__.Student object at 0x0000016A88863810>\n"
     ]
    }
   ],
   "source": [
    "class Student:\n",
    "    pass\n",
    "\n",
    "p=Student()\n",
    "print(p)"
   ]
  },
  {
   "cell_type": "code",
   "execution_count": 3,
   "id": "dfaa4156-8d77-47f1-9e6d-d05b48a04f38",
   "metadata": {},
   "outputs": [],
   "source": [
    "#Self keyword( this keyword in java or cpp)\n",
    "# points to the current object of the class"
   ]
  },
  {
   "cell_type": "code",
   "execution_count": 8,
   "id": "c4efa54c-1cb1-40fa-bc36-4eb75d40a533",
   "metadata": {},
   "outputs": [
    {
     "name": "stdout",
     "output_type": "stream",
     "text": [
      "Hello\n",
      "None\n",
      "<class 'NoneType'>\n"
     ]
    }
   ],
   "source": [
    "class Student:\n",
    "    def sayHello(self):# self oint to the current object of the class\n",
    "        print(\"Hello\")\n",
    "p=Student().sayHello()\n",
    "print(p) \n",
    "print(type(p))"
   ]
  },
  {
   "cell_type": "code",
   "execution_count": 10,
   "id": "2cc57789-e41b-43c0-b7df-193378d020bc",
   "metadata": {},
   "outputs": [],
   "source": [
    "class Student:\n",
    "\n",
    "    def __init__(self,name):\n",
    "        self.name=name\n",
    "\n",
    "    def sayHello(self):\n",
    "        print(\"Hello\",self.name)"
   ]
  },
  {
   "cell_type": "code",
   "execution_count": 12,
   "id": "720fe6a2-caa2-4a32-92ab-d3353e7b614f",
   "metadata": {},
   "outputs": [
    {
     "name": "stdout",
     "output_type": "stream",
     "text": [
      "Hello Bhav\n"
     ]
    }
   ],
   "source": [
    "Student('Bhav').sayHello()"
   ]
  },
  {
   "cell_type": "code",
   "execution_count": 13,
   "id": "2afc8761-ab3d-4155-9200-052bb6d490b6",
   "metadata": {},
   "outputs": [],
   "source": [
    "# 2 Variable - class variable - object variable"
   ]
  },
  {
   "cell_type": "code",
   "execution_count": 27,
   "id": "cade99ab-3987-4d4a-a405-ae83397b3448",
   "metadata": {},
   "outputs": [],
   "source": [
    "class Person():\n",
    "    #Class Variable\n",
    "    number=0\n",
    "\n",
    "    def __init__(self,name):\n",
    "        #initialise some data\n",
    "        self.name=name\n",
    "        print(\"Initialising {}\".format(self.name))\n",
    "    \n",
    "        Person.number+=1\n",
    "    def destruct(self):\n",
    "        #it will die\n",
    "        print(\"I am dying {}\".format(self.name))\n",
    "        Person.number=Person.number-1\n",
    "    \n",
    "    def sayHello(self):\n",
    "        #greet\n",
    "        print(\"Hello {}\".format(self.name))\n",
    "\n",
    "    @classmethod#decorator-classs method is related to the class not to the object so it is called as decorator\n",
    "    def how_many(self):#current class object\n",
    "        print(\"number of persons: {}\".format(self.number))\n",
    "\n"
   ]
  },
  {
   "cell_type": "code",
   "execution_count": 31,
   "id": "5a04cde4-201d-476d-b5a9-23b579699068",
   "metadata": {},
   "outputs": [
    {
     "name": "stdout",
     "output_type": "stream",
     "text": [
      "Initialising Bhavshresth\n",
      "Hello Bhavshresth\n",
      "number of persons: 5\n",
      "Initialising Bhavshresth\n",
      "Hello Bhavshresth\n",
      "number of persons: 6\n",
      "I am dying Bhavshresth\n",
      "number of persons: 5\n"
     ]
    }
   ],
   "source": [
    "person1 = Person(\"Bhavshresth\")\n",
    "person1.sayHello()\n",
    "Person.how_many()\n",
    "\n",
    "person2 = Person(\"Bhavshresth\")\n",
    "person2.sayHello()\n",
    "Person.how_many()\n",
    "\n",
    "person1.destruct()\n",
    "Person.how_many()"
   ]
  },
  {
   "cell_type": "markdown",
   "id": "3d04ecd8-8276-4351-adee-abdcb7c4f571",
   "metadata": {},
   "source": [
    "# Exceptions handing"
   ]
  },
  {
   "cell_type": "code",
   "execution_count": 34,
   "id": "75ab6595-456a-4a61-b745-9e0077410c2e",
   "metadata": {},
   "outputs": [
    {
     "name": "stdout",
     "output_type": "stream",
     "text": [
      "Zero division error\n",
      "It runs\n"
     ]
    }
   ],
   "source": [
    "try:\n",
    "    print(1/0)\n",
    "except:\n",
    "    print(\"Zero division error\")\n",
    "finally:\n",
    "    print(\"It runs\")"
   ]
  }
 ],
 "metadata": {
  "kernelspec": {
   "display_name": "Python 3 (ipykernel)",
   "language": "python",
   "name": "python3"
  },
  "language_info": {
   "codemirror_mode": {
    "name": "ipython",
    "version": 3
   },
   "file_extension": ".py",
   "mimetype": "text/x-python",
   "name": "python",
   "nbconvert_exporter": "python",
   "pygments_lexer": "ipython3",
   "version": "3.11.7"
  }
 },
 "nbformat": 4,
 "nbformat_minor": 5
}
